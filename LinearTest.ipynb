{
 "cells": [
  {
   "cell_type": "code",
   "execution_count": 1,
   "metadata": {},
   "outputs": [],
   "source": [
    "import pandas\n",
    "import numpy"
   ]
  },
  {
   "cell_type": "code",
   "execution_count": 2,
   "metadata": {},
   "outputs": [],
   "source": [
    "data = pandas.read_csv('F:\\Anaconda\\iris.csv')"
   ]
  },
  {
   "cell_type": "code",
   "execution_count": 3,
   "metadata": {},
   "outputs": [],
   "source": [
    "X = numpy.array(data[['x1', 'x2']])\n",
    "y = numpy.array(data['y'])"
   ]
  },
  {
   "cell_type": "code",
   "execution_count": 4,
   "metadata": {},
   "outputs": [
    {
     "data": {
      "text/plain": [
       "array([[ 3.36493584e-01, -9.85950993e-01],\n",
       "       [-1.10425297e-02, -1.05528562e-01],\n",
       "       [ 2.38159509e-01, -6.17416665e-01],\n",
       "       [-3.66782883e-01, -7.13818717e-01],\n",
       "       [ 1.22192307e+00, -1.03939899e+00],\n",
       "       [-1.30456800e+00,  5.92618470e-01],\n",
       "       [-4.07809099e-01, -5.09110510e-01],\n",
       "       [ 8.93188942e-01,  1.18285986e+00],\n",
       "       [-5.46337259e-03, -5.89551229e-01],\n",
       "       [ 4.06423768e-01,  6.11062235e-01],\n",
       "       [-1.45506767e-01,  3.65463997e-02],\n",
       "       [-4.04887876e-02, -5.66500320e-02],\n",
       "       [ 1.60355998e+00,  9.08139380e-02],\n",
       "       [-6.04838450e-01, -1.11340205e-01],\n",
       "       [-5.34401237e-01, -1.04875779e+00],\n",
       "       [ 9.77706756e-01, -1.35281793e+00],\n",
       "       [-4.22036925e-01, -2.74418974e-01],\n",
       "       [ 1.69051345e+00, -9.29766839e-01],\n",
       "       [ 6.55534595e-01, -2.44533046e-01],\n",
       "       [ 3.84609916e-01, -3.34328466e-01],\n",
       "       [-1.09341027e-01,  2.73694976e-01],\n",
       "       [-1.28710022e+00, -4.06756443e-01],\n",
       "       [ 4.35217566e-01, -1.92221317e-01],\n",
       "       [ 5.55208008e-02,  1.02401188e+00],\n",
       "       [ 1.50882171e+00, -7.99489053e-01],\n",
       "       [ 7.59323066e-01,  7.75189603e-01],\n",
       "       [ 9.67078497e-01, -7.07726242e-01],\n",
       "       [-2.31301769e-02,  1.34060202e+00],\n",
       "       [-2.74591143e-01, -5.49682228e-01],\n",
       "       [-1.20807491e+00, -1.41385343e+00],\n",
       "       [ 3.81259080e-01, -8.52947496e-01],\n",
       "       [ 4.04870623e-01, -3.85646431e-01],\n",
       "       [ 1.73135931e-02,  7.87433468e-01],\n",
       "       [-6.50474497e-01,  3.77281548e-01],\n",
       "       [-1.75095704e-01,  5.57524657e-01],\n",
       "       [ 9.07470130e-02,  1.46764389e-01],\n",
       "       [-2.34063354e-01, -1.14282729e+00],\n",
       "       [-2.32405022e-02,  3.29251073e-02],\n",
       "       [-9.81778533e-01, -6.14024199e-01],\n",
       "       [ 8.63118366e-01,  6.26452590e-01],\n",
       "       [-4.94201528e-01, -1.24586272e+00],\n",
       "       [ 5.60657441e-01,  9.60463848e-01],\n",
       "       [ 5.17532460e-01, -1.01562043e+00],\n",
       "       [-1.07674778e+00,  1.64110649e+00],\n",
       "       [-4.02951468e-01,  1.74395284e+00],\n",
       "       [ 1.26250129e+00, -8.80456579e-02],\n",
       "       [-1.13554605e+00,  6.91274080e-01],\n",
       "       [-1.88154071e+00,  5.79520023e-01],\n",
       "       [ 1.61949374e+00, -1.16815367e+00],\n",
       "       [-1.67382069e-01,  3.18140980e-01],\n",
       "       [-7.31515970e-01, -6.26052632e-01],\n",
       "       [ 1.49620521e-01,  1.24000574e+00],\n",
       "       [ 1.16720084e+00,  5.21580750e-01],\n",
       "       [-4.36063304e-01,  4.36803113e-02],\n",
       "       [-8.27638903e-01,  2.75166404e-01],\n",
       "       [ 1.36953107e+00,  9.71233523e-01],\n",
       "       [ 6.90612759e-01, -1.27804625e+00],\n",
       "       [ 1.26986688e+00,  5.75808793e-01],\n",
       "       [ 2.08866021e-01, -1.46742455e-01],\n",
       "       [-4.37203223e-01,  5.21165071e-01],\n",
       "       [-3.78363762e-01, -7.69780149e-02],\n",
       "       [-4.23820115e-01, -8.36137210e-01],\n",
       "       [-5.60756181e-01, -4.10377754e-01],\n",
       "       [ 3.36052961e-01, -2.24802048e-01],\n",
       "       [-1.33543073e+00, -9.90358481e-01],\n",
       "       [-2.89733997e-02,  4.41010128e-01],\n",
       "       [-1.31939064e+00, -3.77647099e-01],\n",
       "       [-8.08411081e-01,  1.22837904e+00],\n",
       "       [ 1.35995944e+00,  1.12161871e+00],\n",
       "       [-8.72069364e-01, -2.52522726e-01],\n",
       "       [-1.88887517e+00,  1.44098536e-01],\n",
       "       [ 1.60845823e+00, -7.74759254e-01],\n",
       "       [-3.58639910e-01,  7.84305200e-01],\n",
       "       [ 5.20332593e-01, -6.21854007e-01],\n",
       "       [ 3.06204274e-01,  2.54480897e-01],\n",
       "       [-1.51072939e+00,  5.94704976e-03],\n",
       "       [ 9.56067338e-01, -5.33023016e-01],\n",
       "       [ 2.88866739e-01, -7.25155662e-01],\n",
       "       [ 4.03468554e-01, -1.75945771e+00],\n",
       "       [ 8.59415686e-02, -9.58846823e-01],\n",
       "       [ 3.81957047e-01,  1.24143718e-02],\n",
       "       [ 3.36004017e-01, -2.59620738e-01],\n",
       "       [ 1.02869640e+00, -7.85051442e-01],\n",
       "       [-1.81058442e-01,  2.66871780e-03],\n",
       "       [ 2.79139768e-01,  1.48068778e-01],\n",
       "       [-7.00587484e-01,  1.18422441e-01],\n",
       "       [-4.74343136e-01, -1.62548760e-01],\n",
       "       [-1.29581527e+00,  7.55926314e-01],\n",
       "       [ 1.40673268e-01, -1.60264376e+00],\n",
       "       [ 3.28196143e-01,  4.44738576e-01],\n",
       "       [-9.40761503e-01, -1.00437673e+00],\n",
       "       [ 4.17765482e-01,  1.11423359e+00],\n",
       "       [-8.02874872e-01, -1.27790347e+00],\n",
       "       [-5.96842012e-01,  5.93623894e-01],\n",
       "       [-1.12331263e-01,  1.74318514e-01],\n",
       "       [-1.45753325e+00, -1.30679050e+00],\n",
       "       [ 1.63561447e+00,  2.73942963e-01],\n",
       "       [ 1.13120402e-01,  2.04651462e-02],\n",
       "       [ 7.53405102e-01,  1.93830122e-01],\n",
       "       [-5.38129041e-01, -7.23035827e-04]])"
      ]
     },
     "execution_count": 4,
     "metadata": {},
     "output_type": "execute_result"
    }
   ],
   "source": [
    "X"
   ]
  },
  {
   "cell_type": "code",
   "execution_count": 5,
   "metadata": {},
   "outputs": [
    {
     "data": {
      "text/plain": [
       "array([0., 1., 1., 1., 0., 0., 1., 0., 1., 1., 1., 1., 0., 1., 0., 0., 1.,\n",
       "       0., 1., 1., 1., 0., 1., 0., 0., 0., 0., 0., 1., 0., 1., 1., 1., 1.,\n",
       "       1., 1., 0., 1., 0., 0., 0., 0., 0., 0., 0., 0., 0., 0., 0., 1., 1.,\n",
       "       0., 0., 1., 1., 0., 0., 0., 1., 1., 1., 1., 1., 1., 0., 1., 0., 0.,\n",
       "       0., 1., 0., 0., 1., 1., 1., 0., 0., 1., 0., 1., 1., 1., 0., 1., 1.,\n",
       "       1., 1., 0., 0., 1., 0., 0., 0., 1., 1., 0., 0., 1., 1., 1.])"
      ]
     },
     "execution_count": 5,
     "metadata": {},
     "output_type": "execute_result"
    }
   ],
   "source": [
    "y"
   ]
  },
  {
   "cell_type": "code",
   "execution_count": 6,
   "metadata": {},
   "outputs": [
    {
     "data": {
      "text/plain": [
       "LogisticRegression(C=1.0, class_weight=None, dual=False, fit_intercept=True,\n",
       "          intercept_scaling=1, max_iter=100, multi_class='ovr', n_jobs=1,\n",
       "          penalty='l2', random_state=None, solver='liblinear', tol=0.0001,\n",
       "          verbose=0, warm_start=False)"
      ]
     },
     "execution_count": 6,
     "metadata": {},
     "output_type": "execute_result"
    }
   ],
   "source": [
    "#from sklearn.tree import DecisionTreeClassifier\n",
    "#from sklearn.linear_model import LogisticRegression\n",
    "#from sklearn.ensemble import GradientBoostingClassifier\n",
    "#from sklearn.svm import SVC\n",
    "#classifier=LogisticRegression()\n",
    "#classifier.fit(X,y)\n",
    "#classifier=GradientBoostingClassifier()\n",
    "#classifier.fit(X,y)\n",
    "#classifier=SVC(kernel = 'rbf', degree = 300)\n",
    "#classifier.fit(X,y)\n",
    "#classifier = DecisionTreeClassifier()\n",
    "#classifier.fit(X,y)\n",
    "from sklearn.linear_model import LogisticRegression\n",
    "classifier=LogisticRegression()\n",
    "classifier.fit(X,y)"
   ]
  },
  {
   "cell_type": "code",
   "execution_count": 7,
   "metadata": {},
   "outputs": [
    {
     "data": {
      "text/plain": [
       "DecisionTreeClassifier(class_weight=None, criterion='gini', max_depth=None,\n",
       "            max_features=None, max_leaf_nodes=None,\n",
       "            min_impurity_decrease=0.0, min_impurity_split=None,\n",
       "            min_samples_leaf=1, min_samples_split=2,\n",
       "            min_weight_fraction_leaf=0.0, presort=False, random_state=None,\n",
       "            splitter='best')"
      ]
     },
     "execution_count": 7,
     "metadata": {},
     "output_type": "execute_result"
    }
   ],
   "source": [
    "from sklearn.tree import DecisionTreeClassifier\n",
    "classifier = DecisionTreeClassifier()\n",
    "classifier.fit(X,y)"
   ]
  },
  {
   "cell_type": "code",
   "execution_count": 8,
   "metadata": {},
   "outputs": [
    {
     "data": {
      "text/plain": [
       "SVC(C=1.0, cache_size=200, class_weight=None, coef0=0.0,\n",
       "  decision_function_shape='ovr', degree=300, gamma='auto', kernel='rbf',\n",
       "  max_iter=-1, probability=False, random_state=None, shrinking=True,\n",
       "  tol=0.001, verbose=False)"
      ]
     },
     "execution_count": 8,
     "metadata": {},
     "output_type": "execute_result"
    }
   ],
   "source": [
    "from sklearn.svm import SVC\n",
    "classifier=SVC(kernel='rbf',degree=300)\n",
    "classifier.fit(X,y)"
   ]
  },
  {
   "cell_type": "code",
   "execution_count": 9,
   "metadata": {},
   "outputs": [
    {
     "data": {
      "text/plain": [
       "GradientBoostingClassifier(criterion='friedman_mse', init=None,\n",
       "              learning_rate=0.1, loss='deviance', max_depth=3,\n",
       "              max_features=None, max_leaf_nodes=None,\n",
       "              min_impurity_decrease=0.0, min_impurity_split=None,\n",
       "              min_samples_leaf=1, min_samples_split=2,\n",
       "              min_weight_fraction_leaf=0.0, n_estimators=100,\n",
       "              presort='auto', random_state=None, subsample=1.0, verbose=0,\n",
       "              warm_start=False)"
      ]
     },
     "execution_count": 9,
     "metadata": {},
     "output_type": "execute_result"
    }
   ],
   "source": [
    "from sklearn.ensemble import GradientBoostingClassifier\n",
    "classifier=GradientBoostingClassifier()\n",
    "classifier.fit(X,y)"
   ]
  },
  {
   "cell_type": "code",
   "execution_count": null,
   "metadata": {},
   "outputs": [],
   "source": []
  }
 ],
 "metadata": {
  "kernelspec": {
   "display_name": "Python 3",
   "language": "python",
   "name": "python3"
  },
  "language_info": {
   "codemirror_mode": {
    "name": "ipython",
    "version": 3
   },
   "file_extension": ".py",
   "mimetype": "text/x-python",
   "name": "python",
   "nbconvert_exporter": "python",
   "pygments_lexer": "ipython3",
   "version": "3.6.5"
  }
 },
 "nbformat": 4,
 "nbformat_minor": 2
}
